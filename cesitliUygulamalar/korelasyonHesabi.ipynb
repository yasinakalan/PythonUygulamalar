{
 "cells": [
  {
   "cell_type": "code",
   "execution_count": 1,
   "metadata": {},
   "outputs": [],
   "source": [
    "# KORELASYON HESABI:\n",
    "# x ve y arasındaki korelasyonu hesaplayalım.\n",
    "x = [43, 21, 25, 42, 57, 59]\n",
    "y = [99, 65, 79, 75, 87, 81]"
   ]
  },
  {
   "cell_type": "code",
   "execution_count": 2,
   "metadata": {},
   "outputs": [
    {
     "name": "stdout",
     "output_type": "stream",
     "text": [
      "xToplam: 247\n",
      "yToplam: 486\n"
     ]
    }
   ],
   "source": [
    "# x ve y listelerinin tum elemanlarinin toplamlari\n",
    "xToplam = 0\n",
    "for i in range(len(x)):\n",
    "    xToplam += x[i]\n",
    "print(f\"xToplam: {xToplam}\")\n",
    "\n",
    "yToplam = 0\n",
    "for _ in range(len(y)):\n",
    "    yToplam += y[_]\n",
    "print(\"yToplam:\", yToplam)"
   ]
  },
  {
   "cell_type": "code",
   "execution_count": 3,
   "metadata": {},
   "outputs": [
    {
     "name": "stdout",
     "output_type": "stream",
     "text": [
      "xyToplam: 20485\n"
     ]
    }
   ],
   "source": [
    "# x ve y listelerinin elemanlarinin indekslerinin carpimlarinin toplamlari\n",
    "xyToplam = 0\n",
    "for j in range(len(x)):\n",
    "    xyToplam += x[j] * y[j]\n",
    "print(f\"xyToplam: {xyToplam}\")"
   ]
  },
  {
   "cell_type": "code",
   "execution_count": 4,
   "metadata": {},
   "outputs": [
    {
     "name": "stdout",
     "output_type": "stream",
     "text": [
      "xKareToplam: 11409\n",
      "yKareToplam: 40022\n"
     ]
    }
   ],
   "source": [
    "# x ve y listelerinin tum elemanlarinin kareleri toplamlari\n",
    "xKareToplam = 0\n",
    "for k in range(len(x)):\n",
    "    xKareToplam += x[k]**2\n",
    "print(\"xKareToplam: {}\".format(xKareToplam))\n",
    "\n",
    "yKareToplam = 0\n",
    "for m in range(len(y)):\n",
    "    yKareToplam += y[m]**2\n",
    "print(\"yKareToplam:\", yKareToplam)"
   ]
  },
  {
   "cell_type": "code",
   "execution_count": 6,
   "metadata": {},
   "outputs": [
    {
     "name": "stdout",
     "output_type": "stream",
     "text": [
      "Korelasyon(r): 0.530\n",
      "\n",
      "r = -1  => Korelasyon ters yönde maksimumdur.\n",
      "r <  0  => Korelasyon ters yöndedir.\n",
      "r =  0  => Korelasyon Yoktur.\n",
      "r >  0  => Korelasyon aynı yöndedir.\n",
      "r =  1  => Korelasyon aynı yönde maksimumdur.\n",
      "      \n"
     ]
    }
   ],
   "source": [
    "# Korelasyon Katsayısı(r):\n",
    "r = ((len(x) * xyToplam) - (xToplam * yToplam)) / ((((len(x)*xKareToplam)-(xToplam**2))**0.5)*(((len(x)*yKareToplam)-(yToplam**2))**0.5))\n",
    "print(f\"Korelasyon(r): {r:.3f}\")\n",
    "\n",
    "print(\"\"\"\n",
    "r = -1  => Korelasyon ters yönde maksimumdur.\n",
    "r <  0  => Korelasyon ters yöndedir.\n",
    "r =  0  => Korelasyon Yoktur.\n",
    "r >  0  => Korelasyon aynı yöndedir.\n",
    "r =  1  => Korelasyon aynı yönde maksimumdur.\n",
    "      \"\"\")"
   ]
  },
  {
   "cell_type": "code",
   "execution_count": null,
   "metadata": {},
   "outputs": [],
   "source": []
  }
 ],
 "metadata": {
  "kernelspec": {
   "display_name": "Python 3",
   "language": "python",
   "name": "python3"
  },
  "language_info": {
   "codemirror_mode": {
    "name": "ipython",
    "version": 3
   },
   "file_extension": ".py",
   "mimetype": "text/x-python",
   "name": "python",
   "nbconvert_exporter": "python",
   "pygments_lexer": "ipython3",
   "version": "3.12.3"
  }
 },
 "nbformat": 4,
 "nbformat_minor": 2
}
