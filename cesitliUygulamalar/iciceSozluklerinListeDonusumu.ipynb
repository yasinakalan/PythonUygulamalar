{
 "cells": [
  {
   "cell_type": "code",
   "execution_count": 14,
   "metadata": {},
   "outputs": [],
   "source": [
    "def sozluk_cevir(sozluk):\n",
    "    # Bu fonksiyon, iç içe sözlükleri derinlikli listeye dönüştürür.\n",
    "    sonuc_listesi = []  # Sonuç için boş bir liste oluşturulur.\n",
    "    for anahtar, deger in sozluk.items():  # Sözlüğün anahtar ve değer çiftleri üzerinde döngü yapılır.\n",
    "        icerik = [anahtar]  # Anahtar, sonuç listesine eklenir.\n",
    "        if isinstance(deger, dict):  # Eğer değer yine bir sözlükse,\n",
    "            icerik.extend(sozluk_cevir(deger))  # Fonksiyon kendini tekrar çağırarak iç içe sözlükleri çözer. Fonksiyon sonucunu doğrudan ekleyin, bir liste içine almayın.\n",
    "        else:\n",
    "            icerik.append(deger)  # Değer bir sözlük değilse doğrudan eklenir.\n",
    "        sonuc_listesi.append(icerik)  # Oluşturulan içerik, sonuç listesine eklenir.\n",
    "    return sonuc_listesi  # Sonuç listesi döndürülür."
   ]
  },
  {
   "cell_type": "code",
   "execution_count": 15,
   "metadata": {},
   "outputs": [],
   "source": [
    "# İç içe sözlükleri derinliğine göre listeye alma:\n",
    "sozluk = {'A': {'1': [\"a\", \"b\", \"c\"],\n",
    "                '2': [\"d\", \"e\", \"f\"]}, \n",
    "          'B': {'3': [\"g\", \"h\", \"i\"]},\n",
    "          'C': {'4': {'D' : ['j', {'E' : ['k','l','m',{'F' : ['n','o','p','q',{'G':'r'}]}]}]}, 'T' : ['s','t']},\n",
    "          'H': {'I': {'J': {'K': {'L': {'M': {'N': {'O': {'P': {'Q': {'R': {'S': {'yasin'}}}}}}}}}}}}}"
   ]
  },
  {
   "cell_type": "code",
   "execution_count": 16,
   "metadata": {},
   "outputs": [
    {
     "data": {
      "text/plain": [
       "[['A', ['1', ['a', 'b', 'c']], ['2', ['d', 'e', 'f']]],\n",
       " ['B', ['3', ['g', 'h', 'i']]],\n",
       " ['C',\n",
       "  ['4',\n",
       "   ['D',\n",
       "    ['j', {'E': ['k', 'l', 'm', {'F': ['n', 'o', 'p', 'q', {'G': 'r'}]}]}]]],\n",
       "  ['T', ['s', 't']]],\n",
       " ['H',\n",
       "  ['I',\n",
       "   ['J',\n",
       "    ['K',\n",
       "     ['L', ['M', ['N', ['O', ['P', ['Q', ['R', ['S', {'yasin'}]]]]]]]]]]]]]"
      ]
     },
     "execution_count": 16,
     "metadata": {},
     "output_type": "execute_result"
    }
   ],
   "source": [
    "cevrilmis_ifade = sozluk_cevir(sozluk)\n",
    "cevrilmis_ifade"
   ]
  },
  {
   "cell_type": "code",
   "execution_count": null,
   "metadata": {},
   "outputs": [],
   "source": []
  }
 ],
 "metadata": {
  "kernelspec": {
   "display_name": "Python 3",
   "language": "python",
   "name": "python3"
  },
  "language_info": {
   "codemirror_mode": {
    "name": "ipython",
    "version": 3
   },
   "file_extension": ".py",
   "mimetype": "text/x-python",
   "name": "python",
   "nbconvert_exporter": "python",
   "pygments_lexer": "ipython3",
   "version": "3.12.3"
  }
 },
 "nbformat": 4,
 "nbformat_minor": 2
}
