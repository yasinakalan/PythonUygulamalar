{
 "cells": [
  {
   "cell_type": "code",
   "execution_count": 6,
   "metadata": {},
   "outputs": [
    {
     "name": "stdout",
     "output_type": "stream",
     "text": [
      "toplam durum sayisi: 32\n",
      "tum durumlar: \n",
      "[[0, 0, 0, 0, 0], [0, 0, 0, 0, 1], [0, 0, 0, 1, 0], [0, 0, 0, 1, 1], [0, 0, 1, 0, 0], [0, 0, 1, 0, 1], [0, 0, 1, 1, 0], [0, 0, 1, 1, 1], [0, 1, 0, 0, 0], [0, 1, 0, 0, 1], [0, 1, 0, 1, 0], [0, 1, 0, 1, 1], [0, 1, 1, 0, 0], [0, 1, 1, 0, 1], [0, 1, 1, 1, 0], [0, 1, 1, 1, 1], [1, 0, 0, 0, 0], [1, 0, 0, 0, 1], [1, 0, 0, 1, 0], [1, 0, 0, 1, 1], [1, 0, 1, 0, 0], [1, 0, 1, 0, 1], [1, 0, 1, 1, 0], [1, 0, 1, 1, 1], [1, 1, 0, 0, 0], [1, 1, 0, 0, 1], [1, 1, 0, 1, 0], [1, 1, 0, 1, 1], [1, 1, 1, 0, 0], [1, 1, 1, 0, 1], [1, 1, 1, 1, 0], [1, 1, 1, 1, 1]]\n"
     ]
    }
   ],
   "source": [
    "# BASIT OLASILIK TUM DURUMLAR HESABI:\n",
    "# 5 sıralı durum 0 ve 1 elemanlarindan olusuyor ve en fazla kac durum vardir ve nelerdir?\n",
    "liste = [0, 1]\n",
    "\n",
    "olasilik = []\n",
    "for i in liste:\n",
    "    for j in liste:\n",
    "        for k in liste:\n",
    "            for l in liste:\n",
    "                for m in liste:\n",
    "                    olasilik.append([i, j, k, l, m])\n",
    "\n",
    "print(f'toplam durum sayisi: {len(olasilik)}')\n",
    "print(f\"tum durumlar: \\n{olasilik}\")\n"
   ]
  },
  {
   "cell_type": "code",
   "execution_count": 4,
   "metadata": {},
   "outputs": [
    {
     "name": "stdout",
     "output_type": "stream",
     "text": [
      "    0  1  2  3  4\n",
      "0   0  0  0  0  0\n",
      "1   0  0  0  0  1\n",
      "2   0  0  0  1  0\n",
      "3   0  0  0  1  1\n",
      "4   0  0  1  0  0\n",
      "5   0  0  1  0  1\n",
      "6   0  0  1  1  0\n",
      "7   0  0  1  1  1\n",
      "8   0  1  0  0  0\n",
      "9   0  1  0  0  1\n",
      "10  0  1  0  1  0\n",
      "11  0  1  0  1  1\n",
      "12  0  1  1  0  0\n",
      "13  0  1  1  0  1\n",
      "14  0  1  1  1  0\n",
      "15  0  1  1  1  1\n",
      "16  1  0  0  0  0\n",
      "17  1  0  0  0  1\n",
      "18  1  0  0  1  0\n",
      "19  1  0  0  1  1\n",
      "20  1  0  1  0  0\n",
      "21  1  0  1  0  1\n",
      "22  1  0  1  1  0\n",
      "23  1  0  1  1  1\n",
      "24  1  1  0  0  0\n",
      "25  1  1  0  0  1\n",
      "26  1  1  0  1  0\n",
      "27  1  1  0  1  1\n",
      "28  1  1  1  0  0\n",
      "29  1  1  1  0  1\n",
      "30  1  1  1  1  0\n",
      "31  1  1  1  1  1\n"
     ]
    }
   ],
   "source": [
    "import pandas as pd\n",
    "\n",
    "df = pd.DataFrame(olasilik)\n",
    "print(df)"
   ]
  },
  {
   "cell_type": "code",
   "execution_count": null,
   "metadata": {},
   "outputs": [],
   "source": []
  }
 ],
 "metadata": {
  "kernelspec": {
   "display_name": "Python 3",
   "language": "python",
   "name": "python3"
  },
  "language_info": {
   "codemirror_mode": {
    "name": "ipython",
    "version": 3
   },
   "file_extension": ".py",
   "mimetype": "text/x-python",
   "name": "python",
   "nbconvert_exporter": "python",
   "pygments_lexer": "ipython3",
   "version": "3.12.3"
  }
 },
 "nbformat": 4,
 "nbformat_minor": 2
}
